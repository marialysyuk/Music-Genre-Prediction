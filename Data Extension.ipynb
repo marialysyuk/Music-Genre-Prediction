{
  "nbformat": 4,
  "nbformat_minor": 0,
  "metadata": {
    "colab": {
      "name": "Maria_DS.ipynb",
      "provenance": [],
      "collapsed_sections": [],
      "history_visible": true
    },
    "kernelspec": {
      "name": "python3",
      "display_name": "Python 3"
    },
    "language_info": {
      "name": "python"
    },
    "accelerator": "TPU"
  },
  "cells": [
    {
      "cell_type": "markdown",
      "metadata": {
        "id": "SbDiSH8JFpRK"
      },
      "source": [
        "### Data Extension"
      ]
    },
    {
      "cell_type": "code",
      "metadata": {
        "id": "UvstFHEiFr-t"
      },
      "source": [
        "! pip install spotipy"
      ],
      "execution_count": null,
      "outputs": []
    },
    {
      "cell_type": "code",
      "metadata": {
        "id": "fXx5CPmy82uQ"
      },
      "source": [
        "import pandas as pd\n",
        "import numpy as np\n",
        "import spotipy\n",
        "from spotipy.oauth2 import SpotifyClientCredentials\n",
        "import random\n",
        "\n",
        "client_id = 'e1cb65c6e00f41e28dcc4b6716619c8c'\n",
        "client_secret = 'bafe41b8cdc6418283d486be33748a33' \n",
        "\n",
        "client_credentials_manager = SpotifyClientCredentials(client_id, client_secret)\n",
        "sp = spotipy.Spotify(client_credentials_manager=client_credentials_manager)"
      ],
      "execution_count": 68,
      "outputs": []
    },
    {
      "cell_type": "code",
      "metadata": {
        "id": "2_aNpN3h8_BC"
      },
      "source": [
        "df = pd.read_csv(\"SpotifyFeatures.csv\")\n",
        "df = df[df.genre.str.contains('A Capella')==False]"
      ],
      "execution_count": 69,
      "outputs": []
    },
    {
      "cell_type": "code",
      "metadata": {
        "id": "1Y3JlLr_Wa70"
      },
      "source": [
        "df = df.drop_duplicates(subset=['track_name', 'artist_name'])"
      ],
      "execution_count": 71,
      "outputs": []
    },
    {
      "cell_type": "code",
      "metadata": {
        "id": "9iG9rcMU7nw6"
      },
      "source": [
        "particular=['Rock', 'Rap', 'Pop','Jazz', 'Classical', 'Reggae', 'Opera', 'Indie', 'Blues', 'Electronic']\n",
        "df_g=pd.DataFrame(columns=df.columns)\n",
        "for g in particular:\n",
        "    df_g=pd.concat([df_g, df[df.genre == str(g)].sample(n = 1000, random_state=42) ])"
      ],
      "execution_count": 72,
      "outputs": []
    },
    {
      "cell_type": "code",
      "metadata": {
        "id": "GlWItyki5mFL"
      },
      "source": [
        "df = df_g"
      ],
      "execution_count": 73,
      "outputs": []
    },
    {
      "cell_type": "code",
      "metadata": {
        "id": "_oVEtENr9tx_"
      },
      "source": [
        "df = df.reset_index()"
      ],
      "execution_count": 74,
      "outputs": []
    },
    {
      "cell_type": "code",
      "metadata": {
        "id": "CLlXyrtiXYvf"
      },
      "source": [
        "for i in range(len(df)):\n",
        "  try:\n",
        "    track_id = df.loc[i, 'track_id']\n",
        "    audio = sp.audio_analysis(track_id)\n",
        "    df.loc[i, 'AudioSegments'] = len(audio['segments'])\n",
        "    j = random.randrange(1, df.loc[i, 'AudioSegments'])\n",
        "    df.loc[i, 'SegDuration'] = audio['segments'][j]['duration']\n",
        "    df.loc[i, 'SegConfidence'] = audio['segments'][j]['confidence']\n",
        "    df.loc[i, 'SegLoudnessStart'] = audio['segments'][j]['loudness_start']\n",
        "    df.loc[i, 'SegLoudnessMaxTime'] = audio['segments'][j]['loudness_max_time']\n",
        "    df.loc[i, 'SegLoudnessMax'] = audio['segments'][j]['loudness_max']\n",
        "    df.loc[i, 'SegLoudnessEnd'] = audio['segments'][j]['loudness_end']\n",
        "    df.loc[i, 'SegPitches0'] = audio['segments'][j]['pitches'][0]\n",
        "    df.loc[i, 'SegPitches1'] = audio['segments'][j]['pitches'][1]\n",
        "    df.loc[i, 'SegPitches2'] = audio['segments'][j]['pitches'][2]\n",
        "    df.loc[i, 'SegPitches3'] = audio['segments'][j]['pitches'][3]\n",
        "    df.loc[i, 'SegPitches4'] = audio['segments'][j]['pitches'][4]\n",
        "    df.loc[i, 'SegPitches5'] = audio['segments'][j]['pitches'][5]\n",
        "    df.loc[i, 'SegPitches6'] = audio['segments'][j]['pitches'][6]\n",
        "    df.loc[i, 'SegPitches7'] = audio['segments'][j]['pitches'][7]\n",
        "    df.loc[i, 'SegPitches8'] = audio['segments'][j]['pitches'][8]\n",
        "    df.loc[i, 'SegPitches9'] = audio['segments'][j]['pitches'][9]\n",
        "    df.loc[i, 'SegPitches10'] = audio['segments'][j]['pitches'][10]\n",
        "    df.loc[i, 'SegPitches11'] = audio['segments'][j]['pitches'][11]\n",
        "    df.loc[i, 'SegTimbre0'] = audio['segments'][j]['timbre'][0]\n",
        "    df.loc[i, 'SegTimbre1'] = audio['segments'][j]['timbre'][1]\n",
        "    df.loc[i, 'SegTimbre2'] = audio['segments'][j]['timbre'][2]\n",
        "    df.loc[i, 'SegTimbre3'] = audio['segments'][j]['timbre'][3]\n",
        "    df.loc[i, 'SegTimbre4'] = audio['segments'][j]['timbre'][4]\n",
        "    df.loc[i, 'SegTimbre5'] = audio['segments'][j]['timbre'][5]\n",
        "    df.loc[i, 'SegTimbre6'] = audio['segments'][j]['timbre'][6]\n",
        "    df.loc[i, 'SegTimbre7'] = audio['segments'][j]['timbre'][7]\n",
        "    df.loc[i, 'SegTimbre8'] = audio['segments'][j]['timbre'][8]\n",
        "    df.loc[i, 'SegTimbre9'] = audio['segments'][j]['timbre'][9]\n",
        "    df.loc[i, 'SegTimbre10'] = audio['segments'][j]['timbre'][10]\n",
        "    df.loc[i, 'SegTimbre11'] = audio['segments'][j]['timbre'][11]\n",
        "  except:\n",
        "      pass\n",
        "\n"
      ],
      "execution_count": 78,
      "outputs": []
    },
    {
      "cell_type": "code",
      "metadata": {
        "id": "wcdtxk2_GDTI"
      },
      "source": [
        "df.to_csv('10000-10genres.csv', encoding='utf-8')"
      ],
      "execution_count": 80,
      "outputs": []
    },
    {
      "cell_type": "code",
      "metadata": {
        "colab": {
          "base_uri": "https://localhost:8080/"
        },
        "id": "OBa5WdJT4DpM",
        "outputId": "c1d914e5-674d-4ad1-db46-2336acb41d04"
      },
      "source": [
        "df.columns"
      ],
      "execution_count": 79,
      "outputs": [
        {
          "output_type": "execute_result",
          "data": {
            "text/plain": [
              "Index(['index', 'genre', 'artist_name', 'track_name', 'track_id', 'popularity',\n",
              "       'acousticness', 'danceability', 'duration_ms', 'energy',\n",
              "       'instrumentalness', 'key', 'liveness', 'loudness', 'mode',\n",
              "       'speechiness', 'tempo', 'time_signature', 'valence', 'AudioSegments',\n",
              "       'SegDuration', 'SegConfidence', 'SegLoudnessStart',\n",
              "       'SegLoudnessMaxTime', 'SegLoudnessMax', 'SegLoudnessEnd', 'SegPitches0',\n",
              "       'SegPitches1', 'SegPitches2', 'SegPitches3', 'SegPitches4',\n",
              "       'SegPitches5', 'SegPitches6', 'SegPitches7', 'SegPitches8',\n",
              "       'SegPitches9', 'SegPitches10', 'SegPitches11', 'SegTimbre0',\n",
              "       'SegTimbre1', 'SegTimbre2', 'SegTimbre3', 'SegTimbre4', 'SegTimbre5',\n",
              "       'SegTimbre6', 'SegTimbre7', 'SegTimbre8', 'SegTimbre9', 'SegTimbre10',\n",
              "       'SegTimbre11'],\n",
              "      dtype='object')"
            ]
          },
          "metadata": {},
          "execution_count": 79
        }
      ]
    },
    {
      "cell_type": "code",
      "metadata": {
        "id": "tH4R9Jvs9hB8"
      },
      "source": [
        " for i in range(len(df)):\n",
        "    track_id = df.loc[i, 'track_id']\n",
        "    track = sp.track(track_id)\n",
        "    df.loc[i, 'ReleaseDate'] = track['album']['release_date']\n",
        "    df.loc[i, 'AlbumName'] = track['album']['name']\n",
        "    df.loc[i, 'ArtistId'] = track['album']['artists'][0]['id']\n",
        "    df.loc[i, 'TotalTracks'] = track['album']['total_tracks']"
      ],
      "execution_count": 82,
      "outputs": []
    },
    {
      "cell_type": "code",
      "metadata": {
        "colab": {
          "base_uri": "https://localhost:8080/"
        },
        "id": "H_4bdyr6NTfQ",
        "outputId": "91a46375-166d-4f9d-a7e6-d060c55f6778"
      },
      "source": [
        "df.columns"
      ],
      "execution_count": 84,
      "outputs": [
        {
          "output_type": "execute_result",
          "data": {
            "text/plain": [
              "Index(['index', 'genre', 'artist_name', 'track_name', 'track_id', 'popularity',\n",
              "       'acousticness', 'danceability', 'duration_ms', 'energy',\n",
              "       'instrumentalness', 'key', 'liveness', 'loudness', 'mode',\n",
              "       'speechiness', 'tempo', 'time_signature', 'valence', 'AudioSegments',\n",
              "       'SegDuration', 'SegConfidence', 'SegLoudnessStart',\n",
              "       'SegLoudnessMaxTime', 'SegLoudnessMax', 'SegLoudnessEnd', 'SegPitches0',\n",
              "       'SegPitches1', 'SegPitches2', 'SegPitches3', 'SegPitches4',\n",
              "       'SegPitches5', 'SegPitches6', 'SegPitches7', 'SegPitches8',\n",
              "       'SegPitches9', 'SegPitches10', 'SegPitches11', 'SegTimbre0',\n",
              "       'SegTimbre1', 'SegTimbre2', 'SegTimbre3', 'SegTimbre4', 'SegTimbre5',\n",
              "       'SegTimbre6', 'SegTimbre7', 'SegTimbre8', 'SegTimbre9', 'SegTimbre10',\n",
              "       'SegTimbre11', 'ReleaseDate', 'AlbumName', 'ArtistId', 'TotalTracks',\n",
              "       'Followers', 'ArtistPopularity', 'ArtistGenres'],\n",
              "      dtype='object')"
            ]
          },
          "metadata": {},
          "execution_count": 84
        }
      ]
    },
    {
      "cell_type": "code",
      "metadata": {
        "id": "_vD6GfXvIlor"
      },
      "source": [
        " for i in range(len(df)):\n",
        "    artist_id = df.loc[i, 'ArtistId']\n",
        "    artist = sp.artist(artist_id)\n",
        "    df.loc[i, 'Followers'] = artist['followers']['total']\n",
        "    df.loc[i, 'ArtistPopularity'] = artist['popularity']\n",
        "    genres  = artist['genres']\n",
        "    df.loc[i, 'ArtistGenres'] = ','.join(genres)"
      ],
      "execution_count": 85,
      "outputs": []
    },
    {
      "cell_type": "code",
      "metadata": {
        "id": "qP736-PlWDOU"
      },
      "source": [
        "df.to_csv('10000-10genres-AllFeatures.csv', encoding='utf-8')"
      ],
      "execution_count": 86,
      "outputs": []
    },
    {
      "cell_type": "code",
      "metadata": {
        "colab": {
          "base_uri": "https://localhost:8080/"
        },
        "id": "n1LZvKGytkGk",
        "outputId": "48845173-236a-46dd-fe16-9c11b958a509"
      },
      "source": [
        "df.columns"
      ],
      "execution_count": 87,
      "outputs": [
        {
          "output_type": "execute_result",
          "data": {
            "text/plain": [
              "Index(['index', 'genre', 'artist_name', 'track_name', 'track_id', 'popularity',\n",
              "       'acousticness', 'danceability', 'duration_ms', 'energy',\n",
              "       'instrumentalness', 'key', 'liveness', 'loudness', 'mode',\n",
              "       'speechiness', 'tempo', 'time_signature', 'valence', 'AudioSegments',\n",
              "       'SegDuration', 'SegConfidence', 'SegLoudnessStart',\n",
              "       'SegLoudnessMaxTime', 'SegLoudnessMax', 'SegLoudnessEnd', 'SegPitches0',\n",
              "       'SegPitches1', 'SegPitches2', 'SegPitches3', 'SegPitches4',\n",
              "       'SegPitches5', 'SegPitches6', 'SegPitches7', 'SegPitches8',\n",
              "       'SegPitches9', 'SegPitches10', 'SegPitches11', 'SegTimbre0',\n",
              "       'SegTimbre1', 'SegTimbre2', 'SegTimbre3', 'SegTimbre4', 'SegTimbre5',\n",
              "       'SegTimbre6', 'SegTimbre7', 'SegTimbre8', 'SegTimbre9', 'SegTimbre10',\n",
              "       'SegTimbre11', 'ReleaseDate', 'AlbumName', 'ArtistId', 'TotalTracks',\n",
              "       'Followers', 'ArtistPopularity', 'ArtistGenres'],\n",
              "      dtype='object')"
            ]
          },
          "metadata": {},
          "execution_count": 87
        }
      ]
    }
  ]
}